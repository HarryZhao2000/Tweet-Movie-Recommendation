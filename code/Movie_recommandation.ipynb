{
 "cells": [
  {
   "cell_type": "markdown",
   "metadata": {},
   "source": [
    "# Movie Recommendation Based on Sentiment Analysis of Tweets"
   ]
  },
  {
   "cell_type": "code",
   "execution_count": 1,
   "metadata": {},
   "outputs": [],
   "source": [
    "# Disshow the warnning massage\n",
    "import warnings\n",
    "warnings.filterwarnings('ignore')"
   ]
  },
  {
   "cell_type": "markdown",
   "metadata": {},
   "source": [
    "## improt related packages"
   ]
  },
  {
   "cell_type": "code",
   "execution_count": 2,
   "metadata": {},
   "outputs": [],
   "source": [
    "import pandas as pd\n",
    "from tensorflow import keras\n",
    "import emoji\n",
    "import nltk\n",
    "from nltk.corpus import stopwords\n",
    "from nltk.tokenize import word_tokenize\n",
    "import numpy as np\n",
    "from nltk import word_tokenize\n",
    "from keras.preprocessing import sequence\n",
    "import twitter\n",
    "from sklearn.preprocessing import LabelEncoder"
   ]
  },
  {
   "cell_type": "markdown",
   "metadata": {},
   "source": [
    "## Sentiment Analysis Model"
   ]
  },
  {
   "cell_type": "markdown",
   "metadata": {},
   "source": [
    "### Donload related word index"
   ]
  },
  {
   "cell_type": "code",
   "execution_count": 3,
   "metadata": {},
   "outputs": [],
   "source": [
    "imdb = keras.datasets.imdb\n",
    "word_index = imdb.get_word_index()\n",
    "\n",
    "word_index = {k:(v+3) for k,v in word_index.items()}\n",
    "word_index[\"<PAD>\"] = 0\n",
    "word_index[\"<START>\"] = 1\n",
    "word_index[\"<UNK>\"] = 2\n",
    "word_index[\"<UNUSED>\"] = 3"
   ]
  },
  {
   "cell_type": "markdown",
   "metadata": {},
   "source": [
    "### Load the model"
   ]
  },
  {
   "cell_type": "code",
   "execution_count": 4,
   "metadata": {},
   "outputs": [],
   "source": [
    "new_model = keras.models.load_model('my_model.h5')"
   ]
  },
  {
   "cell_type": "markdown",
   "metadata": {},
   "source": [
    "### Define Normalization Function"
   ]
  },
  {
   "cell_type": "code",
   "execution_count": 5,
   "metadata": {},
   "outputs": [],
   "source": [
    "def norm(input):\n",
    "    a=[]\n",
    "    a.append(input)\n",
    "    emoji.emojize(a[0])\n",
    "    new_a=[]\n",
    "    stop_words = set(stopwords.words('english'))\n",
    "    stop_words = set(stopwords.words('english'))\n",
    "    word_tokens = word_tokenize(a[0])\n",
    "    filtered_sentence = [w for w in word_tokens if not w in stop_words]\n",
    "    new_a.append(filtered_sentence)\n",
    "    emoji.emojize(a[0])\n",
    "    return new_a\n"
   ]
  },
  {
   "cell_type": "markdown",
   "metadata": {},
   "source": [
    "### Def model use function"
   ]
  },
  {
   "cell_type": "code",
   "execution_count": 6,
   "metadata": {},
   "outputs": [],
   "source": [
    "def senti_ana(comment):\n",
    "    if(comment == \"\"):\n",
    "        return -1\n",
    "    test=[]\n",
    "    words_lis = norm(comment)\n",
    "    # for word in word_tokenize(\"the <UNK> richard <UNK> dog is <UNK> to <UNK> joan fontaine dog however when <UNK> bing crosby arrives in town to sell a record player to the emperor his dog is attacked by <UNK> dog after a revenge attack where <UNK> is <UNK> from town a <UNK> insists that <UNK> dog must confront dog so that she can overcome her <UNK> fears this is arranged and the dogs fall in love so do <UNK> and <UNK> the rest of the film passes by with romance and at the end <UNK> dog gives birth but who is the father br br the dog story is the very weak vehicle that is used to try and create a story between humans its a terrible storyline there are 3 main musical pieces all of which are rubbish bad songs and dreadful choreography its just an extremely boring film bing has too many words in each sentence and delivers them in an almost irritating manner its not funny ever but its meant to be bing and joan\"):\n",
    "    for word in words_lis[0]:\n",
    "        try:   \n",
    "            if (word_index[word]<=10000 and type(word_index[word])==int):\n",
    "                test.append(word_index[word])\n",
    "            else:\n",
    "                test.append(0)\n",
    "        except:\n",
    "            test.append(0)\n",
    "#     for word in words_lis:\n",
    "#         if (word in word_index and word_index[word].values <= 10000):\n",
    "#             test.append[word_index[word]]\n",
    "#         else:\n",
    "#             test.append(0)\n",
    "    test = [test]\n",
    "    test = np.array(test)\n",
    "    test = keras.preprocessing.sequence.pad_sequences(test,\n",
    "                                                      value=0,\n",
    "                                                      padding='post',\n",
    "                                                      maxlen=256)\n",
    "    m = new_model.predict_classes(np.array(test))\n",
    "\n",
    "    result = m.reshape(-1)\n",
    "    \n",
    "    return result[0]"
   ]
  },
  {
   "cell_type": "code",
   "execution_count": 7,
   "metadata": {},
   "outputs": [
    {
     "name": "stdout",
     "output_type": "stream",
     "text": [
      "1\n"
     ]
    }
   ],
   "source": [
    "# Test the model\n",
    "res = senti_ana(\"this film was one that i have waited to see for some time i was glad to find it has been everything anticipated the writing of this film has been so finely crafted and <UNK> far beyond what is seen by the audience i found it amusing that so many people watching will not read between some very important lines but indeed if not the movie will make sense in a different way and is very brilliant the film has many stories and characters woven together around this one character <UNK> a man whom has rose from the streets amidst many <UNK> and become a very powerful criminal after spending some time in prison <UNK> finds a <UNK> in the justice system and through a disturbing turn of events is released only to find everything is not at all what it seems <UNK> finds himself going up against the higher realm of society and political <UNK> in order to make clear how important a man's word is and stands for a war begins as the street is in arms against <UNK> of wealth and corrupt power br br a build up to explosive and powerful non stop twists and turns this film will leave you <UNK> i found the cast of this movie to be outstanding and is not a movie to be ignored excellent go rent it today\")\n",
    "print(res)"
   ]
  },
  {
   "cell_type": "markdown",
   "metadata": {},
   "source": [
    "## Friendship based recommandation"
   ]
  },
  {
   "cell_type": "markdown",
   "metadata": {},
   "source": [
    "### Load related database"
   ]
  },
  {
   "cell_type": "code",
   "execution_count": 8,
   "metadata": {},
   "outputs": [],
   "source": [
    "# Comment\n",
    "comment = pd.read_csv(\"./data/text.csv\")"
   ]
  },
  {
   "cell_type": "code",
   "execution_count": 9,
   "metadata": {},
   "outputs": [
    {
     "data": {
      "text/html": [
       "<div>\n",
       "<style scoped>\n",
       "    .dataframe tbody tr th:only-of-type {\n",
       "        vertical-align: middle;\n",
       "    }\n",
       "\n",
       "    .dataframe tbody tr th {\n",
       "        vertical-align: top;\n",
       "    }\n",
       "\n",
       "    .dataframe thead th {\n",
       "        text-align: right;\n",
       "    }\n",
       "</style>\n",
       "<table border=\"1\" class=\"dataframe\">\n",
       "  <thead>\n",
       "    <tr style=\"text-align: right;\">\n",
       "      <th></th>\n",
       "      <th>user_id</th>\n",
       "      <th>movie_name</th>\n",
       "      <th>text</th>\n",
       "    </tr>\n",
       "  </thead>\n",
       "  <tbody>\n",
       "    <tr>\n",
       "      <th>0</th>\n",
       "      <td>829900052697120768</td>\n",
       "      <td>The Thin Man</td>\n",
       "      <td>RT @dril: you see a man standing near a woman ...</td>\n",
       "    </tr>\n",
       "    <tr>\n",
       "      <th>1</th>\n",
       "      <td>428549119</td>\n",
       "      <td>The Thin Man</td>\n",
       "      <td>RT @dril: you see a man standing near a woman ...</td>\n",
       "    </tr>\n",
       "    <tr>\n",
       "      <th>2</th>\n",
       "      <td>55645319</td>\n",
       "      <td>The Thin Man</td>\n",
       "      <td>Kyrie digs Bob Dylan, eh? He’s out here soundi...</td>\n",
       "    </tr>\n",
       "    <tr>\n",
       "      <th>3</th>\n",
       "      <td>1253914943243632640</td>\n",
       "      <td>The Thin Man</td>\n",
       "      <td>I’m tired of seeing these thick boys starve th...</td>\n",
       "    </tr>\n",
       "    <tr>\n",
       "      <th>4</th>\n",
       "      <td>466927126</td>\n",
       "      <td>The Thin Man</td>\n",
       "      <td>RT @dril: you see a man standing near a woman ...</td>\n",
       "    </tr>\n",
       "    <tr>\n",
       "      <th>...</th>\n",
       "      <td>...</td>\n",
       "      <td>...</td>\n",
       "      <td>...</td>\n",
       "    </tr>\n",
       "    <tr>\n",
       "      <th>104521</th>\n",
       "      <td>18958504</td>\n",
       "      <td>Ghostbusters (1984 Original)</td>\n",
       "      <td>RT @historicalpixss: The original Ghostbusters...</td>\n",
       "    </tr>\n",
       "    <tr>\n",
       "      <th>104522</th>\n",
       "      <td>1273160442534379521</td>\n",
       "      <td>Ghostbusters (1984 Original)</td>\n",
       "      <td>RT @historicalpixss: The original Ghostbusters...</td>\n",
       "    </tr>\n",
       "    <tr>\n",
       "      <th>104523</th>\n",
       "      <td>1325941160</td>\n",
       "      <td>Ghostbusters (1984 Original)</td>\n",
       "      <td>RT @til_feed: Original Ghostbusters movie set ...</td>\n",
       "    </tr>\n",
       "    <tr>\n",
       "      <th>104524</th>\n",
       "      <td>410543687</td>\n",
       "      <td>Ghostbusters (1984 Original)</td>\n",
       "      <td>RT @Iearnhistory: The original Ghostbusters mo...</td>\n",
       "    </tr>\n",
       "    <tr>\n",
       "      <th>104525</th>\n",
       "      <td>268455349</td>\n",
       "      <td>Ghostbusters (1984 Original)</td>\n",
       "      <td>RT @til_feed: Original Ghostbusters movie set ...</td>\n",
       "    </tr>\n",
       "  </tbody>\n",
       "</table>\n",
       "<p>104526 rows × 3 columns</p>\n",
       "</div>"
      ],
      "text/plain": [
       "                    user_id                    movie_name  \\\n",
       "0        829900052697120768                  The Thin Man   \n",
       "1                 428549119                  The Thin Man   \n",
       "2                  55645319                  The Thin Man   \n",
       "3       1253914943243632640                  The Thin Man   \n",
       "4                 466927126                  The Thin Man   \n",
       "...                     ...                           ...   \n",
       "104521             18958504  Ghostbusters (1984 Original)   \n",
       "104522  1273160442534379521  Ghostbusters (1984 Original)   \n",
       "104523           1325941160  Ghostbusters (1984 Original)   \n",
       "104524            410543687  Ghostbusters (1984 Original)   \n",
       "104525            268455349  Ghostbusters (1984 Original)   \n",
       "\n",
       "                                                     text  \n",
       "0       RT @dril: you see a man standing near a woman ...  \n",
       "1       RT @dril: you see a man standing near a woman ...  \n",
       "2       Kyrie digs Bob Dylan, eh? He’s out here soundi...  \n",
       "3       I’m tired of seeing these thick boys starve th...  \n",
       "4       RT @dril: you see a man standing near a woman ...  \n",
       "...                                                   ...  \n",
       "104521  RT @historicalpixss: The original Ghostbusters...  \n",
       "104522  RT @historicalpixss: The original Ghostbusters...  \n",
       "104523  RT @til_feed: Original Ghostbusters movie set ...  \n",
       "104524  RT @Iearnhistory: The original Ghostbusters mo...  \n",
       "104525  RT @til_feed: Original Ghostbusters movie set ...  \n",
       "\n",
       "[104526 rows x 3 columns]"
      ]
     },
     "execution_count": 9,
     "metadata": {},
     "output_type": "execute_result"
    }
   ],
   "source": [
    "comment = comment[['user_id', 'movie_name', 'text']]\n",
    "comment"
   ]
  },
  {
   "cell_type": "code",
   "execution_count": 10,
   "metadata": {},
   "outputs": [],
   "source": [
    "users = comment.user_id\n",
    "users = users.to_list()"
   ]
  },
  {
   "cell_type": "markdown",
   "metadata": {},
   "source": [
    "### Get friends"
   ]
  },
  {
   "cell_type": "code",
   "execution_count": 11,
   "metadata": {},
   "outputs": [],
   "source": [
    "def oauth_login():\n",
    "    # XXX: Go to  to create an app and get values\n",
    "    # for these credentials that you'll need to provide in place of these\n",
    "    # empty string values that are defined as placeholders.\n",
    "    # See https://developer.twitter.com/en/docs/basics/authentication/overview/oauth\n",
    "    # for more information on Twitter's OAuth implementation.\n",
    "    \n",
    "    CONSUMER_KEY = 'RE2dHLBiiLVJqVO4YkkPl7eW4'\n",
    "    CONSUMER_SECRET = '88pR1VmOqaFjIm5S2Nk22fL9qJ48l4zgOZ6QVxW4UbQeYg3duz'\n",
    "    OAUTH_TOKEN = '1105923679232446469-LgyshrZzLfPO8YoOnFHhk33LTeiz2h'\n",
    "    OAUTH_TOKEN_SECRET = 'nlbLt3wjx1nADK2sUD8G3x4HFSJoLj0uywKhErj6o9YqT'\n",
    "    \n",
    "    auth = twitter.oauth.OAuth(OAUTH_TOKEN, OAUTH_TOKEN_SECRET,\n",
    "                               CONSUMER_KEY, CONSUMER_SECRET)\n",
    "    \n",
    "    twitter_api = twitter.Twitter(auth=auth)\n",
    "    return twitter_api\n",
    "\n",
    "def get_friends(id_):\n",
    "    twitter_api = oauth_login()\n",
    "    print('authed')\n",
    "    return twitter_api.friends.list(user_id=id_)"
   ]
  },
  {
   "cell_type": "markdown",
   "metadata": {},
   "source": [
    "### define recommand function"
   ]
  },
  {
   "cell_type": "code",
   "execution_count": 13,
   "metadata": {},
   "outputs": [
    {
     "name": "stdout",
     "output_type": "stream",
     "text": [
      "authed\n"
     ]
    }
   ],
   "source": [
    "def friend_recommand(userid, comment):\n",
    "    fri_all = get_friends(userid)\n",
    "    IDS = []\n",
    "    for i in fri_all['users']:\n",
    "        IDS.append(i['id'])\n",
    "    friend = [i for i in IDS if i in users]\n",
    "    movies = pd.DataFrame()\n",
    "    for f in friend:\n",
    "        res = comment.loc[comment['user_id']==f]\n",
    "        movies = pd.concat([movies,res],axis=0,ignore_index=True)\n",
    "    movies_watched = comment.loc[comment['user_id']==userid]['movie_name'].to_list()\n",
    "    movies = movies[~movies['movie_name'].isin(movies_watched)]\n",
    "    movies['senti'] = movies['text'].apply(senti_ana)\n",
    "    rec_movies = movies['movie_name'][movies['senti']==1].to_list()\n",
    "    return rec_movies\n",
    "\n",
    "fri_movies = friend_recommand(428549119, comment)"
   ]
  },
  {
   "cell_type": "code",
   "execution_count": 311,
   "metadata": {},
   "outputs": [
    {
     "data": {
      "text/plain": [
       "['The Vast of Night', 'Paddington 2']"
      ]
     },
     "execution_count": 311,
     "metadata": {},
     "output_type": "execute_result"
    }
   ],
   "source": [
    "fri_movies"
   ]
  },
  {
   "cell_type": "markdown",
   "metadata": {},
   "source": [
    "## User based recommandation"
   ]
  },
  {
   "cell_type": "markdown",
   "metadata": {},
   "source": [
    "### Load related database"
   ]
  },
  {
   "cell_type": "code",
   "execution_count": 14,
   "metadata": {},
   "outputs": [
    {
     "data": {
      "text/html": [
       "<div>\n",
       "<style scoped>\n",
       "    .dataframe tbody tr th:only-of-type {\n",
       "        vertical-align: middle;\n",
       "    }\n",
       "\n",
       "    .dataframe tbody tr th {\n",
       "        vertical-align: top;\n",
       "    }\n",
       "\n",
       "    .dataframe thead th {\n",
       "        text-align: right;\n",
       "    }\n",
       "</style>\n",
       "<table border=\"1\" class=\"dataframe\">\n",
       "  <thead>\n",
       "    <tr style=\"text-align: right;\">\n",
       "      <th></th>\n",
       "      <th>user_id</th>\n",
       "      <th>movie_name</th>\n",
       "      <th>text</th>\n",
       "    </tr>\n",
       "  </thead>\n",
       "  <tbody>\n",
       "    <tr>\n",
       "      <th>0</th>\n",
       "      <td>829900052697120768</td>\n",
       "      <td>The Thin Man</td>\n",
       "      <td>RT @dril: you see a man standing near a woman ...</td>\n",
       "    </tr>\n",
       "    <tr>\n",
       "      <th>1</th>\n",
       "      <td>428549119</td>\n",
       "      <td>The Thin Man</td>\n",
       "      <td>RT @dril: you see a man standing near a woman ...</td>\n",
       "    </tr>\n",
       "    <tr>\n",
       "      <th>2</th>\n",
       "      <td>55645319</td>\n",
       "      <td>The Thin Man</td>\n",
       "      <td>Kyrie digs Bob Dylan, eh? He’s out here soundi...</td>\n",
       "    </tr>\n",
       "    <tr>\n",
       "      <th>3</th>\n",
       "      <td>1253914943243632640</td>\n",
       "      <td>The Thin Man</td>\n",
       "      <td>I’m tired of seeing these thick boys starve th...</td>\n",
       "    </tr>\n",
       "    <tr>\n",
       "      <th>4</th>\n",
       "      <td>466927126</td>\n",
       "      <td>The Thin Man</td>\n",
       "      <td>RT @dril: you see a man standing near a woman ...</td>\n",
       "    </tr>\n",
       "    <tr>\n",
       "      <th>...</th>\n",
       "      <td>...</td>\n",
       "      <td>...</td>\n",
       "      <td>...</td>\n",
       "    </tr>\n",
       "    <tr>\n",
       "      <th>104521</th>\n",
       "      <td>18958504</td>\n",
       "      <td>Ghostbusters (1984 Original)</td>\n",
       "      <td>RT @historicalpixss: The original Ghostbusters...</td>\n",
       "    </tr>\n",
       "    <tr>\n",
       "      <th>104522</th>\n",
       "      <td>1273160442534379521</td>\n",
       "      <td>Ghostbusters (1984 Original)</td>\n",
       "      <td>RT @historicalpixss: The original Ghostbusters...</td>\n",
       "    </tr>\n",
       "    <tr>\n",
       "      <th>104523</th>\n",
       "      <td>1325941160</td>\n",
       "      <td>Ghostbusters (1984 Original)</td>\n",
       "      <td>RT @til_feed: Original Ghostbusters movie set ...</td>\n",
       "    </tr>\n",
       "    <tr>\n",
       "      <th>104524</th>\n",
       "      <td>410543687</td>\n",
       "      <td>Ghostbusters (1984 Original)</td>\n",
       "      <td>RT @Iearnhistory: The original Ghostbusters mo...</td>\n",
       "    </tr>\n",
       "    <tr>\n",
       "      <th>104525</th>\n",
       "      <td>268455349</td>\n",
       "      <td>Ghostbusters (1984 Original)</td>\n",
       "      <td>RT @til_feed: Original Ghostbusters movie set ...</td>\n",
       "    </tr>\n",
       "  </tbody>\n",
       "</table>\n",
       "<p>104526 rows × 3 columns</p>\n",
       "</div>"
      ],
      "text/plain": [
       "                    user_id                    movie_name  \\\n",
       "0        829900052697120768                  The Thin Man   \n",
       "1                 428549119                  The Thin Man   \n",
       "2                  55645319                  The Thin Man   \n",
       "3       1253914943243632640                  The Thin Man   \n",
       "4                 466927126                  The Thin Man   \n",
       "...                     ...                           ...   \n",
       "104521             18958504  Ghostbusters (1984 Original)   \n",
       "104522  1273160442534379521  Ghostbusters (1984 Original)   \n",
       "104523           1325941160  Ghostbusters (1984 Original)   \n",
       "104524            410543687  Ghostbusters (1984 Original)   \n",
       "104525            268455349  Ghostbusters (1984 Original)   \n",
       "\n",
       "                                                     text  \n",
       "0       RT @dril: you see a man standing near a woman ...  \n",
       "1       RT @dril: you see a man standing near a woman ...  \n",
       "2       Kyrie digs Bob Dylan, eh? He’s out here soundi...  \n",
       "3       I’m tired of seeing these thick boys starve th...  \n",
       "4       RT @dril: you see a man standing near a woman ...  \n",
       "...                                                   ...  \n",
       "104521  RT @historicalpixss: The original Ghostbusters...  \n",
       "104522  RT @historicalpixss: The original Ghostbusters...  \n",
       "104523  RT @til_feed: Original Ghostbusters movie set ...  \n",
       "104524  RT @Iearnhistory: The original Ghostbusters mo...  \n",
       "104525  RT @til_feed: Original Ghostbusters movie set ...  \n",
       "\n",
       "[104526 rows x 3 columns]"
      ]
     },
     "execution_count": 14,
     "metadata": {},
     "output_type": "execute_result"
    }
   ],
   "source": [
    "# Comment\n",
    "comment = pd.read_csv(\"./data/text.csv\")\n",
    "comment = comment[['user_id', 'movie_name', 'text']]\n",
    "comment"
   ]
  },
  {
   "cell_type": "code",
   "execution_count": 15,
   "metadata": {},
   "outputs": [],
   "source": [
    "# Users\n",
    "user = pd.read_csv(\"./data/user.csv\")"
   ]
  },
  {
   "cell_type": "code",
   "execution_count": 16,
   "metadata": {},
   "outputs": [
    {
     "data": {
      "text/html": [
       "<div>\n",
       "<style scoped>\n",
       "    .dataframe tbody tr th:only-of-type {\n",
       "        vertical-align: middle;\n",
       "    }\n",
       "\n",
       "    .dataframe tbody tr th {\n",
       "        vertical-align: top;\n",
       "    }\n",
       "\n",
       "    .dataframe thead th {\n",
       "        text-align: right;\n",
       "    }\n",
       "</style>\n",
       "<table border=\"1\" class=\"dataframe\">\n",
       "  <thead>\n",
       "    <tr style=\"text-align: right;\">\n",
       "      <th></th>\n",
       "      <th>id</th>\n",
       "      <th>description</th>\n",
       "      <th>protected</th>\n",
       "      <th>followers_count</th>\n",
       "      <th>friends_count</th>\n",
       "      <th>listed_count</th>\n",
       "      <th>created_at</th>\n",
       "      <th>favourites_count</th>\n",
       "      <th>verified</th>\n",
       "      <th>statuses_count</th>\n",
       "      <th>profile_background_color</th>\n",
       "      <th>profile_background_tile</th>\n",
       "      <th>profile_link_color</th>\n",
       "      <th>profile_sidebar_border_color</th>\n",
       "      <th>profile_sidebar_fill_color</th>\n",
       "      <th>profile_text_color</th>\n",
       "    </tr>\n",
       "  </thead>\n",
       "  <tbody>\n",
       "    <tr>\n",
       "      <th>0</th>\n",
       "      <td>829900052697120768</td>\n",
       "      <td>i AM the heterosexual stop telling me no//hate...</td>\n",
       "      <td>False</td>\n",
       "      <td>111</td>\n",
       "      <td>143</td>\n",
       "      <td>6</td>\n",
       "      <td>Fri Feb 10 03:49:26 +0000 2017</td>\n",
       "      <td>54142</td>\n",
       "      <td>False</td>\n",
       "      <td>8526</td>\n",
       "      <td>F5F8FA</td>\n",
       "      <td>False</td>\n",
       "      <td>1DA1F2</td>\n",
       "      <td>C0DEED</td>\n",
       "      <td>DDEEF6</td>\n",
       "      <td>333333</td>\n",
       "    </tr>\n",
       "    <tr>\n",
       "      <th>1</th>\n",
       "      <td>428549119</td>\n",
       "      <td>Antifa posting associate \\nenby dale gribble</td>\n",
       "      <td>False</td>\n",
       "      <td>169</td>\n",
       "      <td>793</td>\n",
       "      <td>0</td>\n",
       "      <td>Sun Dec 04 22:12:59 +0000 2011</td>\n",
       "      <td>66158</td>\n",
       "      <td>False</td>\n",
       "      <td>13655</td>\n",
       "      <td>000000</td>\n",
       "      <td>False</td>\n",
       "      <td>E81C4F</td>\n",
       "      <td>000000</td>\n",
       "      <td>000000</td>\n",
       "      <td>000000</td>\n",
       "    </tr>\n",
       "    <tr>\n",
       "      <th>2</th>\n",
       "      <td>55645319</td>\n",
       "      <td>NaN</td>\n",
       "      <td>False</td>\n",
       "      <td>249</td>\n",
       "      <td>1060</td>\n",
       "      <td>2</td>\n",
       "      <td>Fri Jul 10 19:40:03 +0000 2009</td>\n",
       "      <td>1710</td>\n",
       "      <td>False</td>\n",
       "      <td>1095</td>\n",
       "      <td>C0DEED</td>\n",
       "      <td>False</td>\n",
       "      <td>1DA1F2</td>\n",
       "      <td>C0DEED</td>\n",
       "      <td>DDEEF6</td>\n",
       "      <td>333333</td>\n",
       "    </tr>\n",
       "    <tr>\n",
       "      <th>3</th>\n",
       "      <td>1253914943243632640</td>\n",
       "      <td>♊️♌️♐️Judge yo Mama before judging me. I can’t...</td>\n",
       "      <td>False</td>\n",
       "      <td>1017</td>\n",
       "      <td>871</td>\n",
       "      <td>3</td>\n",
       "      <td>Sat Apr 25 05:13:30 +0000 2020</td>\n",
       "      <td>9172</td>\n",
       "      <td>False</td>\n",
       "      <td>6852</td>\n",
       "      <td>F5F8FA</td>\n",
       "      <td>False</td>\n",
       "      <td>1DA1F2</td>\n",
       "      <td>C0DEED</td>\n",
       "      <td>DDEEF6</td>\n",
       "      <td>333333</td>\n",
       "    </tr>\n",
       "    <tr>\n",
       "      <th>4</th>\n",
       "      <td>466927126</td>\n",
       "      <td>mmm milk</td>\n",
       "      <td>False</td>\n",
       "      <td>293</td>\n",
       "      <td>255</td>\n",
       "      <td>1</td>\n",
       "      <td>Tue Jan 17 23:09:24 +0000 2012</td>\n",
       "      <td>4432</td>\n",
       "      <td>False</td>\n",
       "      <td>43151</td>\n",
       "      <td>C0DEED</td>\n",
       "      <td>True</td>\n",
       "      <td>0084B4</td>\n",
       "      <td>FFFFFF</td>\n",
       "      <td>DDEEF6</td>\n",
       "      <td>333333</td>\n",
       "    </tr>\n",
       "    <tr>\n",
       "      <th>...</th>\n",
       "      <td>...</td>\n",
       "      <td>...</td>\n",
       "      <td>...</td>\n",
       "      <td>...</td>\n",
       "      <td>...</td>\n",
       "      <td>...</td>\n",
       "      <td>...</td>\n",
       "      <td>...</td>\n",
       "      <td>...</td>\n",
       "      <td>...</td>\n",
       "      <td>...</td>\n",
       "      <td>...</td>\n",
       "      <td>...</td>\n",
       "      <td>...</td>\n",
       "      <td>...</td>\n",
       "      <td>...</td>\n",
       "    </tr>\n",
       "    <tr>\n",
       "      <th>90203</th>\n",
       "      <td>18958504</td>\n",
       "      <td>Tweet lots so engage &amp; converse | Prev @ebay 🛒...</td>\n",
       "      <td>False</td>\n",
       "      <td>9435</td>\n",
       "      <td>179</td>\n",
       "      <td>1290</td>\n",
       "      <td>Tue Jan 13 23:29:52 +0000 2009</td>\n",
       "      <td>152</td>\n",
       "      <td>True</td>\n",
       "      <td>156827</td>\n",
       "      <td>131516</td>\n",
       "      <td>True</td>\n",
       "      <td>FF691F</td>\n",
       "      <td>FFFFFF</td>\n",
       "      <td>000000</td>\n",
       "      <td>0E73AD</td>\n",
       "    </tr>\n",
       "    <tr>\n",
       "      <th>90204</th>\n",
       "      <td>1273160442534379521</td>\n",
       "      <td>grains of gold among sand 🧜🏻‍♀️🌙</td>\n",
       "      <td>False</td>\n",
       "      <td>32</td>\n",
       "      <td>690</td>\n",
       "      <td>0</td>\n",
       "      <td>Wed Jun 17 07:48:31 +0000 2020</td>\n",
       "      <td>3350</td>\n",
       "      <td>False</td>\n",
       "      <td>271</td>\n",
       "      <td>F5F8FA</td>\n",
       "      <td>False</td>\n",
       "      <td>1DA1F2</td>\n",
       "      <td>C0DEED</td>\n",
       "      <td>DDEEF6</td>\n",
       "      <td>333333</td>\n",
       "    </tr>\n",
       "    <tr>\n",
       "      <th>90205</th>\n",
       "      <td>1325941160</td>\n",
       "      <td>#BLM #IFB #IFR #Resister #FBR #F4F  #Biden2020...</td>\n",
       "      <td>False</td>\n",
       "      <td>30698</td>\n",
       "      <td>30106</td>\n",
       "      <td>453</td>\n",
       "      <td>Thu Apr 04 02:29:02 +0000 2013</td>\n",
       "      <td>48559</td>\n",
       "      <td>False</td>\n",
       "      <td>41915</td>\n",
       "      <td>C0DEED</td>\n",
       "      <td>False</td>\n",
       "      <td>1DA1F2</td>\n",
       "      <td>C0DEED</td>\n",
       "      <td>DDEEF6</td>\n",
       "      <td>333333</td>\n",
       "    </tr>\n",
       "    <tr>\n",
       "      <th>90206</th>\n",
       "      <td>410543687</td>\n",
       "      <td>snot-nosed little punk.</td>\n",
       "      <td>False</td>\n",
       "      <td>350</td>\n",
       "      <td>334</td>\n",
       "      <td>0</td>\n",
       "      <td>Sat Nov 12 07:17:07 +0000 2011</td>\n",
       "      <td>481</td>\n",
       "      <td>False</td>\n",
       "      <td>14298</td>\n",
       "      <td>642D8B</td>\n",
       "      <td>True</td>\n",
       "      <td>E81C4F</td>\n",
       "      <td>FFFFFF</td>\n",
       "      <td>7AC3EE</td>\n",
       "      <td>3D1957</td>\n",
       "    </tr>\n",
       "    <tr>\n",
       "      <th>90207</th>\n",
       "      <td>268455349</td>\n",
       "      <td>Iniciamos operaciones en 1993 en el sur de Val...</td>\n",
       "      <td>False</td>\n",
       "      <td>1819</td>\n",
       "      <td>1190</td>\n",
       "      <td>602</td>\n",
       "      <td>Fri Mar 18 20:22:42 +0000 2011</td>\n",
       "      <td>69834</td>\n",
       "      <td>False</td>\n",
       "      <td>246153</td>\n",
       "      <td>172224</td>\n",
       "      <td>False</td>\n",
       "      <td>E81C4F</td>\n",
       "      <td>25373A</td>\n",
       "      <td>25373A</td>\n",
       "      <td>899B9E</td>\n",
       "    </tr>\n",
       "  </tbody>\n",
       "</table>\n",
       "<p>90208 rows × 16 columns</p>\n",
       "</div>"
      ],
      "text/plain": [
       "                        id                                        description  \\\n",
       "0       829900052697120768  i AM the heterosexual stop telling me no//hate...   \n",
       "1                428549119       Antifa posting associate \\nenby dale gribble   \n",
       "2                 55645319                                                NaN   \n",
       "3      1253914943243632640  ♊️♌️♐️Judge yo Mama before judging me. I can’t...   \n",
       "4                466927126                                           mmm milk   \n",
       "...                    ...                                                ...   \n",
       "90203             18958504  Tweet lots so engage & converse | Prev @ebay 🛒...   \n",
       "90204  1273160442534379521                   grains of gold among sand 🧜🏻‍♀️🌙   \n",
       "90205           1325941160  #BLM #IFB #IFR #Resister #FBR #F4F  #Biden2020...   \n",
       "90206            410543687                            snot-nosed little punk.   \n",
       "90207            268455349  Iniciamos operaciones en 1993 en el sur de Val...   \n",
       "\n",
       "       protected  followers_count  friends_count  listed_count  \\\n",
       "0          False              111            143             6   \n",
       "1          False              169            793             0   \n",
       "2          False              249           1060             2   \n",
       "3          False             1017            871             3   \n",
       "4          False              293            255             1   \n",
       "...          ...              ...            ...           ...   \n",
       "90203      False             9435            179          1290   \n",
       "90204      False               32            690             0   \n",
       "90205      False            30698          30106           453   \n",
       "90206      False              350            334             0   \n",
       "90207      False             1819           1190           602   \n",
       "\n",
       "                           created_at  favourites_count  verified  \\\n",
       "0      Fri Feb 10 03:49:26 +0000 2017             54142     False   \n",
       "1      Sun Dec 04 22:12:59 +0000 2011             66158     False   \n",
       "2      Fri Jul 10 19:40:03 +0000 2009              1710     False   \n",
       "3      Sat Apr 25 05:13:30 +0000 2020              9172     False   \n",
       "4      Tue Jan 17 23:09:24 +0000 2012              4432     False   \n",
       "...                               ...               ...       ...   \n",
       "90203  Tue Jan 13 23:29:52 +0000 2009               152      True   \n",
       "90204  Wed Jun 17 07:48:31 +0000 2020              3350     False   \n",
       "90205  Thu Apr 04 02:29:02 +0000 2013             48559     False   \n",
       "90206  Sat Nov 12 07:17:07 +0000 2011               481     False   \n",
       "90207  Fri Mar 18 20:22:42 +0000 2011             69834     False   \n",
       "\n",
       "       statuses_count profile_background_color  profile_background_tile  \\\n",
       "0                8526                   F5F8FA                    False   \n",
       "1               13655                   000000                    False   \n",
       "2                1095                   C0DEED                    False   \n",
       "3                6852                   F5F8FA                    False   \n",
       "4               43151                   C0DEED                     True   \n",
       "...               ...                      ...                      ...   \n",
       "90203          156827                   131516                     True   \n",
       "90204             271                   F5F8FA                    False   \n",
       "90205           41915                   C0DEED                    False   \n",
       "90206           14298                   642D8B                     True   \n",
       "90207          246153                   172224                    False   \n",
       "\n",
       "      profile_link_color profile_sidebar_border_color  \\\n",
       "0                 1DA1F2                       C0DEED   \n",
       "1                 E81C4F                       000000   \n",
       "2                 1DA1F2                       C0DEED   \n",
       "3                 1DA1F2                       C0DEED   \n",
       "4                 0084B4                       FFFFFF   \n",
       "...                  ...                          ...   \n",
       "90203             FF691F                       FFFFFF   \n",
       "90204             1DA1F2                       C0DEED   \n",
       "90205             1DA1F2                       C0DEED   \n",
       "90206             E81C4F                       FFFFFF   \n",
       "90207             E81C4F                       25373A   \n",
       "\n",
       "      profile_sidebar_fill_color profile_text_color  \n",
       "0                         DDEEF6             333333  \n",
       "1                         000000             000000  \n",
       "2                         DDEEF6             333333  \n",
       "3                         DDEEF6             333333  \n",
       "4                         DDEEF6             333333  \n",
       "...                          ...                ...  \n",
       "90203                     000000             0E73AD  \n",
       "90204                     DDEEF6             333333  \n",
       "90205                     DDEEF6             333333  \n",
       "90206                     7AC3EE             3D1957  \n",
       "90207                     25373A             899B9E  \n",
       "\n",
       "[90208 rows x 16 columns]"
      ]
     },
     "execution_count": 16,
     "metadata": {},
     "output_type": "execute_result"
    }
   ],
   "source": [
    "user = user[['id', 'description', 'protected', 'followers_count', 'friends_count', 'listed_count', 'created_at', 'favourites_count', 'verified', 'statuses_count', 'profile_background_color', 'profile_background_tile', 'profile_link_color', 'profile_sidebar_border_color', 'profile_sidebar_fill_color', 'profile_text_color']]\n",
    "user"
   ]
  },
  {
   "cell_type": "markdown",
   "metadata": {},
   "source": [
    "### Sentiment analysis on description"
   ]
  },
  {
   "cell_type": "code",
   "execution_count": 17,
   "metadata": {},
   "outputs": [],
   "source": [
    "# user['description'] = user['description'].fillna(\"\")\n",
    "# user['description_senti'] = user['description'].apply(senti_ana)"
   ]
  },
  {
   "cell_type": "code",
   "execution_count": 18,
   "metadata": {},
   "outputs": [],
   "source": [
    "# user.to_csv('./data/user_senti.csv')"
   ]
  },
  {
   "cell_type": "code",
   "execution_count": 19,
   "metadata": {},
   "outputs": [],
   "source": [
    "def euclidean(p, q):\n",
    "    # 如果两数据集数目不同，计算两者之间都对应有的数\n",
    "    same = 0\n",
    "    for i in p:\n",
    "        if i in q:\n",
    "            same += 1\n",
    " \n",
    "    # 计算欧几里德距离,并将其标准化\n",
    "    e = sum([(p[i] - q[i]) ** 2 for i in range(same)])\n",
    "    return 1 / (1 + e ** .5)"
   ]
  },
  {
   "cell_type": "code",
   "execution_count": 20,
   "metadata": {},
   "outputs": [],
   "source": [
    "def noramlization(data):\n",
    "    minVals = data.min(0)\n",
    "    maxVals = data.max(0)\n",
    "    ranges = maxVals - minVals\n",
    "    normData = np.zeros(np.shape(data))\n",
    "    m = data.shape[0]\n",
    "    normData = data - np.tile(minVals, (m, 1))\n",
    "    normData = normData/np.tile(ranges, (m, 1))\n",
    "    return normData"
   ]
  },
  {
   "cell_type": "code",
   "execution_count": 21,
   "metadata": {},
   "outputs": [],
   "source": [
    "def user_sim_recommand(userid, comment, user):\n",
    "    user_senti = pd.read_csv(\"./data/user_senti.csv\")\n",
    "    user[['senti']] = user_senti[['description_senti']]\n",
    "    user = user[['id', 'description', 'protected', 'followers_count', 'friends_count',\n",
    "       'listed_count', 'created_at', 'favourites_count', 'verified',\n",
    "       'statuses_count', 'profile_background_color', 'profile_text_color',\n",
    "       'senti']]\n",
    "    le = LabelEncoder()\n",
    "    le.fit(user[['verified']].values.tolist())\n",
    "    user[['verified']]=le.transform(user[['verified']].values.tolist())\n",
    "    le = LabelEncoder()\n",
    "    le.fit(user[['profile_background_color']].values.tolist())\n",
    "    user[['profile_background_color']]=le.transform(user[['profile_background_color']].values.tolist())\n",
    "    le = LabelEncoder()\n",
    "    le.fit(user[['profile_text_color']].values.tolist())\n",
    "    user[['profile_text_color']]=le.transform(user[['profile_text_color']].values.tolist())\n",
    "    le.fit(user[['protected']].values.tolist())\n",
    "    user[['protected']]=le.transform(user[['protected']].values.tolist())\n",
    "    targ = user[user['id']==userid]\n",
    "    targ.drop(['id', 'description', 'created_at'],axis=1, inplace=True)\n",
    "    targ =targ.values.tolist()\n",
    "    targ = targ[0]\n",
    "    ori_user = user.copy(deep=True)\n",
    "    user.drop(['id', 'description', 'created_at'],axis=1, inplace=True)\n",
    "    le = LabelEncoder()\n",
    "    candi = user.values.tolist()\n",
    "    similarity = []\n",
    "    for i in candi:\n",
    "        similarity.append(euclidean(targ, i))\n",
    "    result = []\n",
    "    for i in range(5):\n",
    "        result.append(similarity.index(sorted(similarity)[-(i+2)]))\n",
    "    resID = []\n",
    "    for i in result:\n",
    "        resID.append(int(ori_user[i-1:i].id.values))\n",
    "    res_movies = []\n",
    "    res_simi = []\n",
    "    for i in range(5):\n",
    "        movies = pd.DataFrame()\n",
    "        res = comment.loc[comment['user_id']==resID[i]]\n",
    "        movies = pd.concat([movies,res],axis=0,ignore_index=True)\n",
    "        movies_watched = comment.loc[comment['user_id']==428549119]['movie_name'].to_list()\n",
    "        movies = movies[~movies['movie_name'].isin(movies_watched)]\n",
    "        movies['senti'] = movies['text'].apply(senti_ana)\n",
    "        rec_movies = movies['movie_name'][movies['senti']==1].to_list()\n",
    "        res_movies.append(rec_movies)\n",
    "        res_simi.append(sorted(similarity)[i+1])\n",
    "    res_simi = np.array(res_simi)\n",
    "    res_simi_norm = []\n",
    "    for i in res_simi:\n",
    "        res_simi_norm.append(i/res_simi.sum())\n",
    "    \n",
    "    res_simi_norm.reverse()\n",
    "    return res_movies, res_simi_norm"
   ]
  },
  {
   "cell_type": "code",
   "execution_count": 22,
   "metadata": {
    "scrolled": true
   },
   "outputs": [],
   "source": [
    "usr_movies, usr_weights = user_sim_recommand(428549119, comment, user)"
   ]
  },
  {
   "cell_type": "code",
   "execution_count": 25,
   "metadata": {},
   "outputs": [
    {
     "data": {
      "text/plain": [
       "[0.2541035146251795,\n",
       " 0.20089949269078483,\n",
       " 0.18767939367737027,\n",
       " 0.1835083500878237,\n",
       " 0.17380924891884164]"
      ]
     },
     "execution_count": 25,
     "metadata": {},
     "output_type": "execute_result"
    }
   ],
   "source": [
    "usr_weights"
   ]
  },
  {
   "cell_type": "markdown",
   "metadata": {},
   "source": [
    "## Combine"
   ]
  },
  {
   "cell_type": "code",
   "execution_count": 26,
   "metadata": {},
   "outputs": [],
   "source": [
    "def recommand_movie(userid, comment, user):\n",
    "    fri_movies = friend_recommand(userid, comment)\n",
    "    usr_movies, usr_weights = user_sim_recommand(userid, comment, user)\n",
    "    \n",
    "    movies = {}\n",
    "    for i in fri_movies:\n",
    "        movies[i]=0.5\n",
    "    for i in range(len(usr_weights)):\n",
    "        for j in usr_movies[i]:\n",
    "            if j in movies.keys():\n",
    "                movies[j]+=0.5*usr_weights[i]\n",
    "            else:\n",
    "                movies[j]=0.5*usr_weights[i]\n",
    "    return movies"
   ]
  },
  {
   "cell_type": "code",
   "execution_count": 27,
   "metadata": {},
   "outputs": [],
   "source": [
    "# Comment\n",
    "comment = pd.read_csv(\"./data/text.csv\")\n",
    "comment = comment[['user_id', 'movie_name', 'text']]\n",
    "\n",
    "# Users\n",
    "user = pd.read_csv(\"./data/user.csv\")\n",
    "user = user[['id', 'description', 'protected', 'followers_count', 'friends_count', 'listed_count', 'created_at', 'favourites_count', 'verified', 'statuses_count', 'profile_background_color', 'profile_background_tile', 'profile_link_color', 'profile_sidebar_border_color', 'profile_sidebar_fill_color', 'profile_text_color']]"
   ]
  },
  {
   "cell_type": "code",
   "execution_count": 28,
   "metadata": {},
   "outputs": [
    {
     "name": "stdout",
     "output_type": "stream",
     "text": [
      "authed\n"
     ]
    }
   ],
   "source": [
    "movies = recommand_movie(428549119, comment, user)"
   ]
  },
  {
   "cell_type": "code",
   "execution_count": 29,
   "metadata": {},
   "outputs": [
    {
     "name": "stdout",
     "output_type": "stream",
     "text": [
      "No. 1 Movie name:    The Vast of Night\tWeight: 0.500000\n",
      "No. 2 Movie name:         Paddington 2\tWeight: 0.500000\n",
      "No. 3 Movie name:               Frozen\tWeight: 0.127052\n",
      "No. 4 Movie name:    Shaun of the Dead\tWeight: 0.100450\n",
      "No. 5 Movie name:         The Lunchbox\tWeight: 0.093840\n",
      "No. 6 Movie name:     The Lost Weekend\tWeight: 0.091754\n",
      "No. 7 Movie name:   Ernest & Célestine\tWeight: 0.086905\n"
     ]
    }
   ],
   "source": [
    "n = 1\n",
    "for key, value in movies.items():\n",
    "    print(\"No. %d Movie name: %20s\\tWeight: %3f\" %(n, key, value))\n",
    "    n+=1"
   ]
  },
  {
   "cell_type": "code",
   "execution_count": 308,
   "metadata": {},
   "outputs": [],
   "source": [
    "from keras.utils import plot_model\n",
    "plot_model(new_model, to_file='model.pdf',show_shapes=False)"
   ]
  },
  {
   "cell_type": "code",
   "execution_count": 310,
   "metadata": {},
   "outputs": [
    {
     "data": {
      "text/plain": [
       "{'The Vast of Night': 0.5,\n",
       " 'Paddington 2': 0.5,\n",
       " 'Frozen': 0.15410699368699324,\n",
       " 'Shaun of the Dead': 0.1309751972666996,\n",
       " 'The Lunchbox': 0.076901778823475,\n",
       " 'The Lost Weekend': 0.07318018921947222,\n",
       " 'Ernest & Célestine': 0.06483584100335998}"
      ]
     },
     "execution_count": 310,
     "metadata": {},
     "output_type": "execute_result"
    }
   ],
   "source": [
    "movies"
   ]
  },
  {
   "cell_type": "code",
   "execution_count": null,
   "metadata": {},
   "outputs": [],
   "source": []
  }
 ],
 "metadata": {
  "kernelspec": {
   "display_name": "Python 3",
   "language": "python",
   "name": "python3"
  },
  "language_info": {
   "codemirror_mode": {
    "name": "ipython",
    "version": 3
   },
   "file_extension": ".py",
   "mimetype": "text/x-python",
   "name": "python",
   "nbconvert_exporter": "python",
   "pygments_lexer": "ipython3",
   "version": "3.7.3"
  }
 },
 "nbformat": 4,
 "nbformat_minor": 2
}
