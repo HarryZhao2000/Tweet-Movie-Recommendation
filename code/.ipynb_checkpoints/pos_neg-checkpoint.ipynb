{
 "cells": [
  {
   "cell_type": "code",
   "execution_count": 79,
   "metadata": {},
   "outputs": [],
   "source": [
    "from tensorflow import keras\n",
    "new_model = keras.models.load_model('my_model.h5')"
   ]
  },
  {
   "cell_type": "code",
   "execution_count": 80,
   "metadata": {},
   "outputs": [],
   "source": [
    "imdb = keras.datasets.imdb\n",
    "word_index = imdb.get_word_index()\n",
    "\n",
    "word_index = {k:(v+3) for k,v in word_index.items()}\n",
    "word_index[\"<PAD>\"] = 0\n",
    "word_index[\"<START>\"] = 1\n",
    "word_index[\"<UNK>\"] = 2\n",
    "word_index[\"<UNUSED>\"] = 3"
   ]
  },
  {
   "cell_type": "code",
   "execution_count": 84,
   "metadata": {},
   "outputs": [
    {
     "name": "stdout",
     "output_type": "stream",
     "text": [
      "[[ 13 784  14  20   0   0   0   0   0   0   0   0   0   0   0   0   0   0\n",
      "    0   0   0   0   0   0   0   0   0   0   0   0   0   0   0   0   0   0\n",
      "    0   0   0   0   0   0   0   0   0   0   0   0   0   0   0   0   0   0\n",
      "    0   0   0   0   0   0   0   0   0   0   0   0   0   0   0   0   0   0\n",
      "    0   0   0   0   0   0   0   0   0   0   0   0   0   0   0   0   0   0\n",
      "    0   0   0   0   0   0   0   0   0   0   0   0   0   0   0   0   0   0\n",
      "    0   0   0   0   0   0   0   0   0   0   0   0   0   0   0   0   0   0\n",
      "    0   0   0   0   0   0   0   0   0   0   0   0   0   0   0   0   0   0\n",
      "    0   0   0   0   0   0   0   0   0   0   0   0   0   0   0   0   0   0\n",
      "    0   0   0   0   0   0   0   0   0   0   0   0   0   0   0   0   0   0\n",
      "    0   0   0   0   0   0   0   0   0   0   0   0   0   0   0   0   0   0\n",
      "    0   0   0   0   0   0   0   0   0   0   0   0   0   0   0   0   0   0\n",
      "    0   0   0   0   0   0   0   0   0   0   0   0   0   0   0   0   0   0\n",
      "    0   0   0   0   0   0   0   0   0   0   0   0   0   0   0   0   0   0\n",
      "    0   0   0   0]]\n",
      "[1]\n"
     ]
    }
   ],
   "source": [
    "# test=[]\n",
    "# words_lis = ['i',\"hate\",'this','movie']\n",
    "# # for word in word_tokenize(\"i miss going to the movies to watch x-men or avengers\"):\n",
    "# for word in words_lis:\n",
    "#     try:   \n",
    "#         if (word_index[word]<=10000):\n",
    "#             test.append(word_index[word])\n",
    "#         else:\n",
    "#             test.append(0)\n",
    "#     except:\n",
    "#         test.append(0)\n",
    "\n",
    "# test = [test]\n",
    "# test = np.array(test)\n",
    "# test = keras.preprocessing.sequence.pad_sequences(test,\n",
    "#                                                         value=0,\n",
    "#                                                         padding='post',\n",
    "#                                                         maxlen=256)\n",
    "# print(test)\n",
    "# m = new_model.predict_classes(np.array(test))\n",
    "\n",
    "\n",
    "# print(m.reshape(-1))\n",
    "\n",
    "# print(np.shape(np.array([test[0]])))\n",
    "# print(np.shape(m.reshape(-1)))"
   ]
  },
  {
   "cell_type": "code",
   "execution_count": 75,
   "metadata": {},
   "outputs": [
    {
     "name": "stdout",
     "output_type": "stream",
     "text": [
      "[1]\n",
      "(1, 256)\n",
      "(1,)\n"
     ]
    }
   ],
   "source": [
    "# n = new_model.predict_classes(test)\n",
    "\n",
    "# print(n.reshape(-1))\n",
    "\n",
    "# print(np.shape(np.array([test[0]])))\n",
    "# print(np.shape(n.reshape(-1)))\n",
    "\n"
   ]
  },
  {
   "cell_type": "code",
   "execution_count": 127,
   "metadata": {},
   "outputs": [],
   "source": [
    "import emoji\n",
    "import nltk\n",
    "from nltk.corpus import stopwords\n",
    "from nltk.tokenize import word_tokenize\n",
    "\n",
    "\n",
    "\n",
    "def norm(input):\n",
    "    a=[]\n",
    "    a.append(input)\n",
    "    print(type(a[0]))\n",
    "    emoji.emojize(a[0])\n",
    "    new_a=[]\n",
    "    stop_words = set(stopwords.words('english'))\n",
    "    stop_words = set(stopwords.words('english'))\n",
    "    word_tokens = word_tokenize(a[0])\n",
    "    filtered_sentence = [w for w in word_tokens if not w in stop_words]\n",
    "    new_a.append(filtered_sentence)\n",
    "    emoji.emojize(a[0])\n",
    "    return new_a\n",
    "#norm('the <UNK> richard <UNK> dog is <UNK> to <UNK> joan fontaine dog however when <UNK> bing crosby arrives in town to sell a record player to the emperor his dog is attacked by <UNK> dog after a revenge attack where <UNK> is <UNK> from town a <UNK> insists that <UNK> dog must confront dog so that she can overcome her <UNK> fears this is arranged and the dogs fall in love so do <UNK> and <UNK> the rest of the film passes by with romance and at the end <UNK> dog gives birth but who is the father br br the dog story is the very weak vehicle that is used to try and create a story between humans its a terrible storyline there are 3 main musical pieces all of which are rubbish bad songs and dreadful choreography its just an extremely boring film bing has too many words in each sentence and delivers them in an almost irritating manner its not funny ever but its meant to be bing and joan')"
   ]
  },
  {
   "cell_type": "code",
   "execution_count": 93,
   "metadata": {
    "scrolled": true
   },
   "outputs": [
    {
     "name": "stderr",
     "output_type": "stream",
     "text": [
      "[nltk_data] Downloading package stopwords to /Users/a123/nltk_data...\n",
      "[nltk_data]   Package stopwords is already up-to-date!\n"
     ]
    },
    {
     "data": {
      "text/plain": [
       "True"
      ]
     },
     "execution_count": 93,
     "metadata": {},
     "output_type": "execute_result"
    }
   ],
   "source": [
    "import nltk\n",
    "nltk.download('stopwords')"
   ]
  },
  {
   "cell_type": "code",
   "execution_count": 117,
   "metadata": {},
   "outputs": [
    {
     "name": "stdout",
     "output_type": "stream",
     "text": [
      "14\n"
     ]
    }
   ],
   "source": [
    "# print(word_index['this'])"
   ]
  },
  {
   "cell_type": "code",
   "execution_count": 130,
   "metadata": {},
   "outputs": [
    {
     "name": "stdout",
     "output_type": "stream",
     "text": [
      "input comments\n",
      "this film was one that i have waited to see for some time i was glad to find it has been everything anticipated the writing of this film has been so finely crafted and <UNK> far beyond what is seen by the audience i found it amusing that so many people watching will not read between some very important lines but indeed if not the movie will make sense in a different way and is very brilliant the film has many stories and characters woven together around this one character <UNK> a man whom has rose from the streets amidst many <UNK> and become a very powerful criminal after spending some time in prison <UNK> finds a <UNK> in the justice system and through a disturbing turn of events is released only to find everything is not at all what it seems <UNK> finds himself going up against the higher realm of society and political <UNK> in order to make clear how important a man's word is and stands for a war begins as the street is in arms against <UNK> of wealth and corrupt power br br a build up to explosive and powerful non stop twists and turns this film will leave you <UNK> i found the cast of this movie to be outstanding and is not a movie to be ignored excellent go rent it today\n",
      "<class 'str'>\n",
      "[[  22   31 4465   67   58 1264  169  285 6658  487   22 8625 2882    0\n",
      "     0    0  230  724  110  311  258 1139  111   84  149  332  674  411\n",
      "   849   20   97  281  275   96  530   22  111  537  105 9320  295  187\n",
      "    31  109    0    0    0  132 2313 1986 6929  111    0    0    0  413\n",
      "   976 1676 3427   58 1172    0    0    0  659    0    0    0 1351 1510\n",
      "  1193  471  687  626  169  285  186    0    0    0  659  170 1931 5513\n",
      "   926  993    0    0    0  661   97  788  674  132 3579  681 1407  325\n",
      "   778  890 2800    0    0    0 4008 3408  671   10   10 1703 6980  976\n",
      "   701  570 1299  505   22  563    0    0    0  258  177   20 1339   20\n",
      "  3714  321  140  851  639]]\n",
      "[[  22   31 4465   67   58 1264  169  285 6658  487   22 8625 2882    0\n",
      "     0    0  230  724  110  311  258 1139  111   84  149  332  674  411\n",
      "   849   20   97  281  275   96  530   22  111  537  105 9320  295  187\n",
      "    31  109    0    0    0  132 2313 1986 6929  111    0    0    0  413\n",
      "   976 1676 3427   58 1172    0    0    0  659    0    0    0 1351 1510\n",
      "  1193  471  687  626  169  285  186    0    0    0  659  170 1931 5513\n",
      "   926  993    0    0    0  661   97  788  674  132 3579  681 1407  325\n",
      "   778  890 2800    0    0    0 4008 3408  671   10   10 1703 6980  976\n",
      "   701  570 1299  505   22  563    0    0    0  258  177   20 1339   20\n",
      "  3714  321  140  851  639    0    0    0    0    0    0    0    0    0\n",
      "     0    0    0    0    0    0    0    0    0    0    0    0    0    0\n",
      "     0    0    0    0    0    0    0    0    0    0    0    0    0    0\n",
      "     0    0    0    0    0    0    0    0    0    0    0    0    0    0\n",
      "     0    0    0    0    0    0    0    0    0    0    0    0    0    0\n",
      "     0    0    0    0    0    0    0    0    0    0    0    0    0    0\n",
      "     0    0    0    0    0    0    0    0    0    0    0    0    0    0\n",
      "     0    0    0    0    0    0    0    0    0    0    0    0    0    0\n",
      "     0    0    0    0    0    0    0    0    0    0    0    0    0    0\n",
      "     0    0    0    0]]\n",
      "(1, 1)\n",
      "This is a positive comment\n"
     ]
    }
   ],
   "source": [
    "import numpy as np\n",
    "from nltk import word_tokenize\n",
    "from keras.preprocessing import sequence\n",
    "def model_use():\n",
    "    test=[]\n",
    "    comment = input(\"input comments\\n\")\n",
    "    words_lis = norm(comment)\n",
    "    # for word in word_tokenize(\"the <UNK> richard <UNK> dog is <UNK> to <UNK> joan fontaine dog however when <UNK> bing crosby arrives in town to sell a record player to the emperor his dog is attacked by <UNK> dog after a revenge attack where <UNK> is <UNK> from town a <UNK> insists that <UNK> dog must confront dog so that she can overcome her <UNK> fears this is arranged and the dogs fall in love so do <UNK> and <UNK> the rest of the film passes by with romance and at the end <UNK> dog gives birth but who is the father br br the dog story is the very weak vehicle that is used to try and create a story between humans its a terrible storyline there are 3 main musical pieces all of which are rubbish bad songs and dreadful choreography its just an extremely boring film bing has too many words in each sentence and delivers them in an almost irritating manner its not funny ever but its meant to be bing and joan\"):\n",
    "    for word in words_lis[0]:\n",
    "        try:   \n",
    "            if (word_index[word]<=10000 and type(word_index[word])==int):\n",
    "                test.append(word_index[word])\n",
    "            else:\n",
    "                test.append(0)\n",
    "        except:\n",
    "            test.append(0)\n",
    "#     for word in words_lis:\n",
    "#         if (word in word_index and word_index[word].values <= 10000):\n",
    "#             test.append[word_index[word]]\n",
    "#         else:\n",
    "#             test.append(0)\n",
    "    test = [test]\n",
    "    test = np.array(test)\n",
    "    print(test)\n",
    "    test = keras.preprocessing.sequence.pad_sequences(test,\n",
    "                                                      value=0,\n",
    "                                                      padding='post',\n",
    "                                                      maxlen=256)\n",
    "    print(test)\n",
    "    m = new_model.predict_classes(np.array(test))\n",
    "\n",
    "    print(m.shape)\n",
    "    result = m.reshape(-1)\n",
    "    if(result[0]==1):\n",
    "        print(\"This is a positive comment\")\n",
    "    elif(result[0]==0):\n",
    "        print(\"This is a negtive comment\")\n",
    "\n",
    "        \n",
    "# print(m.reshape(-1)); 1 means positive, 0 means negative\n",
    "    \n",
    "\n",
    "#     print(np.shape(np.array([test])))\n",
    "#     print(np.shape(m.reshape(-1)))\n",
    "\n",
    "\n",
    "model_use()"
   ]
  },
  {
   "cell_type": "code",
   "execution_count": null,
   "metadata": {},
   "outputs": [],
   "source": []
  },
  {
   "cell_type": "code",
   "execution_count": null,
   "metadata": {},
   "outputs": [],
   "source": []
  }
 ],
 "metadata": {
  "kernelspec": {
   "display_name": "Python 3",
   "language": "python",
   "name": "python3"
  },
  "language_info": {
   "codemirror_mode": {
    "name": "ipython",
    "version": 3
   },
   "file_extension": ".py",
   "mimetype": "text/x-python",
   "name": "python",
   "nbconvert_exporter": "python",
   "pygments_lexer": "ipython3",
   "version": "3.7.3"
  }
 },
 "nbformat": 4,
 "nbformat_minor": 4
}
